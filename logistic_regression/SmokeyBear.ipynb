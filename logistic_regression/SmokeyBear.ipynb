{
 "cells": [
  {
   "cell_type": "markdown",
   "id": "fcb26b57-13ff-421c-b304-2c517c6defec",
   "metadata": {},
   "source": [
    "### Task 1: Describe a machine learning problem that you would like to solve using Logistic Regression. Clearly state why Logistic regression is the best choice for solving this problem.\n",
    "\n",
    "    I would like to solve better smoke detection using logistic regression. Currently there are two major competing types of smoke detectors, photoelectric smoke detectors that rely on shining a source of light through the air onto on a photosensor and ionization smoke detectors that ionize the air and measure the electrical resistance of the air that fluctuates based on particulates (such as smoke). Both are highly effective simple devices, however, there is still room for improvement as false alarms and late detections are still open issues with these devices. \n",
    "\n",
    "    More complex devices may solve these issues by intergrating multiple sensors to detect fires with higher accuracy and not accidentally trigger with things like cooking smoke or water vapor. These multi-sensor devices are perfect for logisitc regression based classifiers as the models can be easily trained, verified, and most importantly the trained model can run on an intergrated circuit such as the ones used in smoke detectors.\n",
    "\n",
    "\n",
    "### I Will use the following dataset to build a classifier to detect fire based on multiple sensors\n",
    "https://www.kaggle.com/datasets/deepcontractor/smoke-detection-dataset\n",
    "\n",
    "\n",
    "### Exploratory Data Analysis (EDA)\n",
    "\n",
    "\n",
    "\n"
   ]
  },
  {
   "cell_type": "code",
   "execution_count": 1,
   "id": "e31ce1dd-a0d8-49f4-ae84-048ed10d3cf8",
   "metadata": {},
   "outputs": [
    {
     "name": "stdout",
     "output_type": "stream",
     "text": [
      "Collecting numpy\n",
      "  Using cached numpy-1.23.2-cp38-cp38-manylinux_2_17_x86_64.manylinux2014_x86_64.whl (17.1 MB)\n",
      "Collecting matplotlib\n",
      "  Using cached matplotlib-3.5.3-cp38-cp38-manylinux_2_5_x86_64.manylinux1_x86_64.whl (11.3 MB)\n",
      "Collecting pandas\n",
      "  Downloading pandas-1.4.4-cp38-cp38-manylinux_2_17_x86_64.manylinux2014_x86_64.whl (11.7 MB)\n",
      "\u001b[K     |████████████████████████████████| 11.7 MB 1.5 MB/s eta 0:00:01\n",
      "\u001b[?25hCollecting fonttools>=4.22.0\n",
      "  Using cached fonttools-4.37.1-py3-none-any.whl (957 kB)\n",
      "Requirement already satisfied: python-dateutil>=2.7 in /home/nelly/.local/share/virtualenvs/proj_in_ml-08q2zxZv/lib/python3.8/site-packages (from matplotlib) (2.8.2)\n",
      "Requirement already satisfied: packaging>=20.0 in /home/nelly/.local/share/virtualenvs/proj_in_ml-08q2zxZv/lib/python3.8/site-packages (from matplotlib) (21.3)\n",
      "Collecting kiwisolver>=1.0.1\n",
      "  Using cached kiwisolver-1.4.4-cp38-cp38-manylinux_2_5_x86_64.manylinux1_x86_64.whl (1.2 MB)\n",
      "Requirement already satisfied: pyparsing>=2.2.1 in /home/nelly/.local/share/virtualenvs/proj_in_ml-08q2zxZv/lib/python3.8/site-packages (from matplotlib) (3.0.9)\n",
      "Collecting pillow>=6.2.0\n",
      "  Using cached Pillow-9.2.0-cp38-cp38-manylinux_2_17_x86_64.manylinux2014_x86_64.whl (3.1 MB)\n",
      "Collecting cycler>=0.10\n",
      "  Using cached cycler-0.11.0-py3-none-any.whl (6.4 kB)\n",
      "Requirement already satisfied: pytz>=2020.1 in /home/nelly/.local/share/virtualenvs/proj_in_ml-08q2zxZv/lib/python3.8/site-packages (from pandas) (2022.2.1)\n",
      "Requirement already satisfied: six>=1.5 in /home/nelly/.local/share/virtualenvs/proj_in_ml-08q2zxZv/lib/python3.8/site-packages (from python-dateutil>=2.7->matplotlib) (1.16.0)\n",
      "Installing collected packages: numpy, fonttools, kiwisolver, pillow, cycler, matplotlib, pandas\n",
      "Successfully installed cycler-0.11.0 fonttools-4.37.1 kiwisolver-1.4.4 matplotlib-3.5.3 numpy-1.23.2 pandas-1.4.4 pillow-9.2.0\n",
      "Note: you may need to restart the kernel to use updated packages.\n"
     ]
    }
   ],
   "source": [
    "pip install numpy matplotlib pandas"
   ]
  }
 ],
 "metadata": {
  "kernelspec": {
   "display_name": "Python 3 (ipykernel)",
   "language": "python",
   "name": "python3"
  },
  "language_info": {
   "codemirror_mode": {
    "name": "ipython",
    "version": 3
   },
   "file_extension": ".py",
   "mimetype": "text/x-python",
   "name": "python",
   "nbconvert_exporter": "python",
   "pygments_lexer": "ipython3",
   "version": "3.8.10"
  }
 },
 "nbformat": 4,
 "nbformat_minor": 5
}
